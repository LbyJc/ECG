{
 "cells": [
  {
   "cell_type": "code",
   "execution_count": 24,
   "id": "0b37b7d4",
   "metadata": {},
   "outputs": [
    {
     "name": "stdout",
     "output_type": "stream",
     "text": [
      "正在处理文件: D:\\Code\\Python\\ECG\\5.16\\weiwangjie\\ecg-xxx1\\1.txt\n",
      "找到固定头部数量: 65\n",
      "CSV 文件已保存到 D:\\Code\\Python\\ECG\\5.16\\weiwangjie\\ecg-xxx1\\1.csv\n",
      "所有文件处理完毕。\n",
      "雷达数据和 CSV 文件已成功移动到: D:\\Code\\Python\\ECG\\5.16\\weiwangjie\\data-xxx1\\20250516\n",
      "TXT 文件已成功移动到: D:\\Code\\Python\\ECG\\5.16\\weiwangjie\\ecg-xxx1\\data_recieved\\20250516\n",
      "正在处理样本文件夹：1\n",
      "{'path': 'D:\\\\Code\\\\Python\\\\ECG\\\\5.16\\\\weiwangjie\\\\data-xxx1\\\\20250516\\\\1\\\\1747356276.3218_Raw_0.bin', 'name': '1747356276.3218', 'numFrames': 36000, 'start_time': '1747356277.453', 'clip': -1, 'numADCSamples': 256, 'numTxAntennas': 3, 'numRxAntennas': 4, 'numLoopsPerFrame': 2, 'startFreq': 60, 'sampleRate': 5000, 'freqSlope': 64997000000000.0, 'idleTime': 10, 'rampEndTime': 60, 'numAngleBins': 64, 'h_min': 100, 'h_max': 200, 'h': 0.005}\n"
     ]
    },
    {
     "name": "stderr",
     "output_type": "stream",
     "text": [
      "Beamforming:   0%|          | 0/1377 [00:00<?, ?it/s]"
     ]
    },
    {
     "name": "stdout",
     "output_type": "stream",
     "text": [
      "Loading file:  D:\\Code\\Python\\ECG\\5.16\\weiwangjie\\data-xxx1\\20250516\\1\\1747356276.3218_Raw_0.bin\n",
      "Beamforming start\n",
      "rcg_data 已保存到 D:\\Code\\Python\\ECG\\5.16\\weiwangjie\\data-xxx1\\20250516\\beamformed\\1747356276.3218_rcg_data.npy\n",
      "ECG 信号预处理完成\n",
      "ECG 峰值检测完成\n",
      "RCG 信号分段完成\n",
      "RCG 峰值检测完成\n"
     ]
    },
    {
     "name": "stderr",
     "output_type": "stream",
     "text": [
      "Beamforming:   0%|          | 0/1377 [00:29<?, ?it/s]"
     ]
    },
    {
     "name": "stdout",
     "output_type": "stream",
     "text": [
      "RCG 和 ECG 对齐完成\n",
      "RCG 信号筛选50个体素完成\n",
      "Saved segment 1 to D:\\Code\\Python\\ECG\\5.16\\weiwangjie\\data-xxx1\\20250516\\mat\\1_1.mat\n",
      "文件缺失，跳过文件夹：mat\n"
     ]
    },
    {
     "name": "stderr",
     "output_type": "stream",
     "text": [
      "\n"
     ]
    }
   ],
   "source": [
    "from post_collect_process import postcollectprocess # 采集完数据后的分组，移动，解析ecg。\n",
    "from pipeline_yijie import main as preprocess_yijie # 数据处理\n",
    "\n",
    "if __name__ == '__main__':\n",
    "    source_dir = r\"D:\\Code\\Python\\ECG\\5.16\\weiwangjie\\radar-xxx1\" # 原始采集的雷达数据文件夹\n",
    "    netassist_dir = r\"D:\\Code\\Python\\ECG\\5.16\\weiwangjie\\ecg-xxx1\" # ECG接收软件netAssist-0.9文件夹\n",
    "    destination_base = r\"D:\\Code\\Python\\ECG\\5.16\\weiwangjie\\data-xxx1\" # 所有采集的 RCG+ECG 数据集目录\n",
    "    dataset_folder, raw_ecg_folder = postcollectprocess(source_dir, netassist_dir, destination_base) # 整理RCG+ECG数据集，方便后续信号处理\n",
    "    \n",
    "    # root = r'C:\\Users\\Lab\\OneDrive - LA TROBE UNIVERSITY\\AirECG\\AirECG_LabData\\Dataset\\20250318'\n",
    "    root = dataset_folder # 当天采集的 RCG+ECG 数据集日期文件夹\n",
    "    preprocess_yijie(root, part_length=11000, num_parts=1) # 信号处理\n",
    "    # main(bin_path, log_path)"
   ]
  }
 ],
 "metadata": {
  "kernelspec": {
   "display_name": "ECG",
   "language": "python",
   "name": "python3"
  },
  "language_info": {
   "codemirror_mode": {
    "name": "ipython",
    "version": 3
   },
   "file_extension": ".py",
   "mimetype": "text/x-python",
   "name": "python",
   "nbconvert_exporter": "python",
   "pygments_lexer": "ipython3",
   "version": "3.9.21"
  }
 },
 "nbformat": 4,
 "nbformat_minor": 5
}
